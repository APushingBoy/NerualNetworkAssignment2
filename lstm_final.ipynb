{
 "cells": [
  {
   "cell_type": "code",
   "execution_count": null,
   "metadata": {},
   "outputs": [],
   "source": [
    "import numpy as np\n",
    "import matplotlib.pyplot as plt\n",
    "import pandas as pd\n",
    "import torch\n",
    "import torch.nn as nn\n",
    "from torch.autograd import Variable\n",
    "from sklearn.preprocessing import MinMaxScaler\n",
    "from tqdm import tqdm, trange\n",
    "import time"
   ]
  },
  {
   "cell_type": "code",
   "execution_count": null,
   "metadata": {},
   "outputs": [],
   "source": [
    "device = torch.device('cuda' if torch.cuda.is_available() else 'cpu')\n",
    "device"
   ]
  },
  {
   "cell_type": "code",
   "execution_count": null,
   "metadata": {},
   "outputs": [],
   "source": [
    "df = pd.read_csv('btc.csv')\n",
    "df=df.dropna()\n",
    "df['Date']=pd.to_datetime(df['Date'], format='%d/%m/%Y') # read the date in datetime format\n",
    "\n",
    "dates=df['Date'].values\n",
    "close_prices=df['Close'].values\n",
    "\n",
    "# Plot the figure of closed prices\n",
    "fig=plt.figure(figsize=(25,5))\n",
    "ax=fig.add_subplot(111)\n",
    "ax.title.set_text('Bitcoin Close Prices')\n",
    "ax.plot(dates, close_prices)\n",
    "#ax.legend()\n",
    "fig.show()"
   ]
  },
  {
   "cell_type": "code",
   "execution_count": null,
   "metadata": {},
   "outputs": [],
   "source": [
    "close_prices=close_prices.reshape(-1, 1)\n",
    "close_prices.shape"
   ]
  },
  {
   "cell_type": "code",
   "execution_count": null,
   "metadata": {},
   "outputs": [],
   "source": [
    "class LSTM(nn.Module):\n",
    "    def __init__(self, num_classes, input_size, hidden_size, num_layers, window_size):\n",
    "        super(LSTM, self).__init__()\n",
    "        self.num_classes = num_classes\n",
    "        self.num_layers = num_layers\n",
    "        self.input_size = input_size\n",
    "        self.hidden_size = hidden_size\n",
    "        self.window_size= window_size\n",
    "        self.lstm = nn.LSTM(input_size=input_size, hidden_size=hidden_size, num_layers=num_layers, batch_first=True)\n",
    "        self.fc = nn.Linear(hidden_size, num_classes)\n",
    "\n",
    "    def forward(self, x):\n",
    "        h_0 = Variable(torch.zeros(self.num_layers, x.size(0), self.hidden_size))  \n",
    "        c_0 = Variable(torch.zeros(self.num_layers, x.size(0), self.hidden_size))\n",
    "        _placeholder, (h_out, _) = self.lstm(x, (h_0, c_0)) \n",
    "        h_out = h_out.view(-1, self.hidden_size)\n",
    "        out = self.fc(h_out)\n",
    "        return out"
   ]
  },
  {
   "cell_type": "code",
   "execution_count": null,
   "metadata": {},
   "outputs": [],
   "source": [
    "scaler = MinMaxScaler(feature_range=(-1, 1)) # normalize to (-1, 1)\n",
    "# hidden size: 32, 64, 128, 256\n",
    "lstm = LSTM(num_classes=1, input_size=1, hidden_size=32, num_layers=1, window_size=3)\n",
    "criterion = nn.MSELoss()\n",
    "optimizer = torch.optim.Adam(lstm.parameters(), lr=0.03)\n",
    "#optimizer = torch.optim.SGD(lstm.parameters(), lr=learning_rate)"
   ]
  },
  {
   "cell_type": "code",
   "execution_count": null,
   "metadata": {},
   "outputs": [],
   "source": [
    "def window_data(data, window_size):\n",
    "    X=[]\n",
    "    y=[]\n",
    "\n",
    "    i=0\n",
    "    while(i+window_size)<len(data):\n",
    "        X.append(data[i:i+window_size])\n",
    "        y.append(data[i+window_size])\n",
    "        i+=1\n",
    "    assert len(X)==len(y)\n",
    "    return X, y"
   ]
  },
  {
   "cell_type": "code",
   "execution_count": null,
   "metadata": {},
   "outputs": [],
   "source": [
    "def make_data(data, ratio, window_size):\n",
    "    training_data = scaler.fit_transform(data)\n",
    "    x, y = window_data(training_data, window_size)\n",
    "    train_size = int(len(y) * ratio)\n",
    "    #test_size = len(y) - train_size\n",
    "    # all data\n",
    "    X = Variable(torch.Tensor(np.array(x))) \n",
    "    Y = Variable(torch.Tensor(np.array(y)))\n",
    "    # train data\n",
    "    trainX = Variable(torch.Tensor(np.array(x[0:train_size])))\n",
    "    trainY = Variable(torch.Tensor(np.array(y[0:train_size])))\n",
    "    # test data\n",
    "    testX = Variable(torch.Tensor(np.array(x[train_size:len(x)])))\n",
    "    testY = Variable(torch.Tensor(np.array(y[train_size:len(y)])))\n",
    "    return X, Y, trainX, trainY, testX, testY, train_size"
   ]
  },
  {
   "cell_type": "code",
   "execution_count": null,
   "metadata": {},
   "outputs": [],
   "source": [
    "def train(lstm, trainX, trainY, nums_epoches=1000): \n",
    "    train_loss=[] \n",
    "    lstm.train()\n",
    "    for epoch in trange(nums_epoches):\n",
    "        outputs = lstm(trainX)\n",
    "        optimizer.zero_grad()\n",
    "        loss = criterion(outputs, trainY)\n",
    "        loss=torch.sqrt(loss)\n",
    "        train_loss.append(loss.detach().numpy())\n",
    "        loss.backward()\n",
    "        optimizer.step()\n",
    "\n",
    "        if (epoch+1) % 100 == 0:\n",
    "            print(f\"Epoch: %d, loss: %1.5f\" % (epoch+1, loss.item()))\n",
    "\n",
    "    fig=plt.figure(figsize=(25,15))\n",
    "    ax=fig.add_subplot(111)\n",
    "    ax.title.set_text('Training loss')\n",
    "    ax.plot(train_loss)\n",
    "    fig.show()"
   ]
  },
  {
   "cell_type": "code",
   "execution_count": null,
   "metadata": {},
   "outputs": [],
   "source": [
    "def test(X, Y, train_size):\n",
    "    lstm.eval()\n",
    "    train_predict = lstm(X)\n",
    "    _predict = train_predict.data.numpy()\n",
    "    Y_plot = Y.data.numpy()\n",
    "\n",
    "    _predict = scaler.inverse_transform(_predict)\n",
    "    Y_plot = scaler.inverse_transform(Y_plot)\n",
    "\n",
    "    # Plot the figure of closed prices\n",
    "    fig=plt.figure(figsize=(25,10))\n",
    "    ax=fig.add_subplot(111)\n",
    "    ax.title.set_text('Bitcoin Close Prices')\n",
    "    ax.axvline(x=train_size, c='r', linestyle='--')\n",
    "    ax.plot(Y_plot, label='Groundtruth')\n",
    "    ax.plot(_predict, label='Prediction')\n",
    "    ax.legend()\n",
    "    fig.show()\n",
    "    \n",
    "    # plt.axvline(x=train_size, c='r', linestyle='--')\n",
    "\n",
    "    # plt.plot(Y_plot)\n",
    "    # plt.plot(_predict)\n",
    "    # plt.suptitle('Closed Prices')\n",
    "    # plt.show()"
   ]
  },
  {
   "cell_type": "code",
   "execution_count": null,
   "metadata": {},
   "outputs": [],
   "source": [
    "X, Y, trainX, trainY, testX, testY, train_size = make_data(data=close_prices, ratio=0.9, window_size=3)"
   ]
  },
  {
   "cell_type": "code",
   "execution_count": null,
   "metadata": {},
   "outputs": [],
   "source": [
    "train(lstm=lstm, trainX=trainX, trainY=trainY, nums_epoches=1000)"
   ]
  },
  {
   "cell_type": "code",
   "execution_count": null,
   "metadata": {},
   "outputs": [],
   "source": [
    "test(X, Y, train_size)"
   ]
  }
 ],
 "metadata": {
  "kernelspec": {
   "display_name": "Python 3.9.12 ('nn')",
   "language": "python",
   "name": "python3"
  },
  "language_info": {
   "codemirror_mode": {
    "name": "ipython",
    "version": 3
   },
   "file_extension": ".py",
   "mimetype": "text/x-python",
   "name": "python",
   "nbconvert_exporter": "python",
   "pygments_lexer": "ipython3",
   "version": "3.9.12"
  },
  "orig_nbformat": 4,
  "vscode": {
   "interpreter": {
    "hash": "ad0b274546ec867a14a2f05658beded19f1641156965d15cb2483469e4881a1a"
   }
  }
 },
 "nbformat": 4,
 "nbformat_minor": 2
}
